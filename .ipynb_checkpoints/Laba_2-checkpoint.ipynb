{
 "cells": [
  {
   "cell_type": "markdown",
   "id": "0cf81082-5c7b-49d4-952f-3deeb63a930d",
   "metadata": {},
   "source": [
    "# Часть 1"
   ]
  },
  {
   "cell_type": "markdown",
   "id": "2091b014-0448-4823-b4f0-b7c073c2c2c6",
   "metadata": {},
   "source": [
    "создание структуры стека"
   ]
  },
  {
   "cell_type": "code",
   "execution_count": 24,
   "id": "8371d84b-eae5-4f17-8fb5-9ddfb3f8037c",
   "metadata": {},
   "outputs": [],
   "source": [
    "class Stack:\n",
    "\n",
    "    stack: list = []\n",
    "\n",
    "    def __init__(self, *args):\n",
    "        for arg in args:\n",
    "            self.stack.append(arg)\n",
    "\n",
    "    def push(self, elem):\n",
    "        print(f\"push {elem}\")\n",
    "        self.stack.append(elem)\n",
    "\n",
    "    def pop(self):\n",
    "        try:\n",
    "            print(f\"pop {self.stack[-1]}\")\n",
    "            return self.stack.pop()\n",
    "        except IndexError:\n",
    "            return None\n",
    "\n",
    "    def top(self):\n",
    "        try:\n",
    "            print(f\"{self.stack[-1]} on top\")\n",
    "            return self.stack[-1]\n",
    "        except IndexError:\n",
    "            return None\n",
    "\n",
    "    def is_empty(self):\n",
    "        print(f\"is stack empty: {len(self.stack) == 0}\")\n",
    "        return len(self.stack) == 0\n",
    "\n",
    "    def print(self):\n",
    "        print(\"stack:\", end=\" \")\n",
    "        for elem in self.stack:\n",
    "            print(elem, end=' ')\n",
    "        print()\n",
    "\n",
    "mystack = Stack()\n"
   ]
  },
  {
   "cell_type": "markdown",
   "id": "fd30dc3f-cf72-4414-af77-3aea7a3d3180",
   "metadata": {},
   "source": [
    "Чтение файла и исполнение команд в нём"
   ]
  },
  {
   "cell_type": "code",
   "execution_count": 25,
   "id": "0f93a955-b678-4182-9451-ac44046e1d10",
   "metadata": {},
   "outputs": [
    {
     "name": "stdout",
     "output_type": "stream",
     "text": [
      "is stack empty: True\n",
      "push 56\n",
      "push 7\n",
      "push cat\n",
      "pop cat\n",
      "stack: 56 7 \n",
      "is stack empty: False\n"
     ]
    }
   ],
   "source": [
    "file = open(\"input.txt\").read().split()\n",
    "\n",
    "for elem in file:\n",
    "    match elem[0]:\n",
    "        case '1':\n",
    "            mystack.push(elem[2::])\n",
    "        case '2':\n",
    "            mystack.pop()\n",
    "        case '3':\n",
    "            mystack.top()\n",
    "        case '4':\n",
    "            mystack.is_empty()\n",
    "        case '5':\n",
    "            mystack.print()\n",
    "        case \" \":\n",
    "            continue"
   ]
  },
  {
   "cell_type": "code",
   "execution_count": null,
   "id": "9cb15326-a03f-465f-a0d6-6ba4de397a06",
   "metadata": {},
   "outputs": [],
   "source": []
  },
  {
   "cell_type": "code",
   "execution_count": null,
   "id": "8ccb03c4-bd0b-46f0-ab16-d93912f4f5f7",
   "metadata": {},
   "outputs": [],
   "source": []
  },
  {
   "cell_type": "code",
   "execution_count": null,
   "id": "2fc6ee12-44f1-464f-8a57-1596b9076ea8",
   "metadata": {},
   "outputs": [],
   "source": []
  }
 ],
 "metadata": {
  "kernelspec": {
   "display_name": "Python 3 (ipykernel)",
   "language": "python",
   "name": "python3"
  },
  "language_info": {
   "codemirror_mode": {
    "name": "ipython",
    "version": 3
   },
   "file_extension": ".py",
   "mimetype": "text/x-python",
   "name": "python",
   "nbconvert_exporter": "python",
   "pygments_lexer": "ipython3",
   "version": "3.12.6"
  }
 },
 "nbformat": 4,
 "nbformat_minor": 5
}
