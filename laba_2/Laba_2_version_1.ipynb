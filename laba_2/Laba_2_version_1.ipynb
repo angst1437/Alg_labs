{
 "cells": [
  {
   "cell_type": "markdown",
   "id": "0cf81082-5c7b-49d4-952f-3deeb63a930d",
   "metadata": {},
   "source": [
    "# Часть 1"
   ]
  },
  {
   "cell_type": "markdown",
   "id": "2091b014-0448-4823-b4f0-b7c073c2c2c6",
   "metadata": {},
   "source": [
    "создание структуры стека"
   ]
  },
  {
   "cell_type": "code",
   "execution_count": 1,
   "id": "8371d84b-eae5-4f17-8fb5-9ddfb3f8037c",
   "metadata": {},
   "outputs": [],
   "source": [
    "class Stack:\n",
    "    def __init__(self):\n",
    "        self.stack = []\n",
    "        self.temp_buffer = []\n",
    "\n",
    "    def push(self, elem):\n",
    "        self.stack.append(elem)\n",
    "\n",
    "    def pop(self):\n",
    "        try:\n",
    "            return self.stack.pop()\n",
    "        except IndexError:\n",
    "            return None\n",
    "\n",
    "    def top(self):\n",
    "        try:\n",
    "            return self.stack[-1]\n",
    "        except IndexError:\n",
    "            return None\n",
    "\n",
    "    def is_empty(self):\n",
    "        return len(self.stack) == 0\n",
    "\n",
    "    def print(self):\n",
    "        print(\"print:\")\n",
    "        for i in range(len(self.stack)):\n",
    "            poped = self.pop()\n",
    "            self.temp_buffer.append(poped)\n",
    "            print(poped)\n",
    "\n",
    "        for i in range(1, len(self.temp_buffer) + 1):\n",
    "            self.push(self.temp_buffer[-i])\n",
    "\n",
    "        print(\"print ended\", end = \", \")\n",
    "\n"
   ]
  },
  {
   "cell_type": "markdown",
   "id": "fd30dc3f-cf72-4414-af77-3aea7a3d3180",
   "metadata": {},
   "source": [
    "## Чтение файла и исполнение команд в нём"
   ]
  },
  {
   "cell_type": "markdown",
   "id": "fbaaa495-a386-46b3-91e6-5031db1c4603",
   "metadata": {},
   "source": [
    "### файл input_1"
   ]
  },
  {
   "cell_type": "code",
   "execution_count": 2,
   "id": "0f93a955-b678-4182-9451-ac44046e1d10",
   "metadata": {
    "scrolled": true
   },
   "outputs": [
    {
     "name": "stdout",
     "output_type": "stream",
     "text": [
      "None is on top, time: 0.0022 ms\n",
      "is stack empty: True, time: 0.0018 ms\n",
      "push 56, time: 0.0013 ms\n",
      "push 7, time: 0.001 ms\n",
      "push cat, time: 0.0005 ms\n",
      "pop cat, time: 0.001 ms\n",
      "print:\n",
      "7\n",
      "56\n",
      "print ended, time: 0.0193 ms\n",
      "is stack empty: False, time: 0.0006 ms\n",
      "\n",
      "всего на выполнения команд файла ушло 0.4872 секунд\n"
     ]
    }
   ],
   "source": [
    "import time\n",
    "\n",
    "# создание экземпляра класса\n",
    "mystack_1 = Stack()\n",
    "\n",
    "file = open(\"input_1.txt\").read().split()\n",
    "sup_timer_start = time.perf_counter_ns()\n",
    "\n",
    "# разбиваем строчку в массив сплитом, проходимся по каждому элементу\n",
    "for elem in file:\n",
    "    # мэтч ищется именно по нулевому элементу, чтобы все норм работало в командах по типу \"1,cat\"(т.е. считывало только 1)\n",
    "    match elem[0]:\n",
    "        case '1':\n",
    "            # пушится elem[2::] потому, что первые два элемента это один и запятая\n",
    "            print(f\"push {elem[2::]}\", end=\", \")\n",
    "            time_start = time.perf_counter_ns()\n",
    "            mystack_1.push(elem[2::])\n",
    "            res = time.perf_counter_ns() - time_start\n",
    "            print(f\"time: {res / 1_000_000} ms\")\n",
    "        case '2':\n",
    "            time_start = time.perf_counter_ns()\n",
    "            poped = mystack_1.pop()\n",
    "            res = time.perf_counter_ns() - time_start\n",
    "            print(f\"pop {poped}, time: {res /1_000_000} ms\")\n",
    "        case '3':\n",
    "            time_start = time.perf_counter_ns()\n",
    "            top = mystack_1.top()\n",
    "            res = time.perf_counter_ns() - time_start\n",
    "            print(f\"{top} is on top, time: {res / 1_000_000} ms\")\n",
    "        case '4':\n",
    "            time_start = time.perf_counter_ns()\n",
    "            is_empty = mystack_1.is_empty()\n",
    "            res = time.perf_counter_ns() - time_start\n",
    "            print(f\"is stack empty: {mystack_1.is_empty()}, time: {res / 1_000_000} ms\")\n",
    "        case '5':\n",
    "            time_start = time.perf_counter_ns()\n",
    "            mystack_1.print()\n",
    "            res = time.perf_counter_ns() - time_start\n",
    "            print(f\"time: {res / 1_000_000} ms\")\n",
    "        case \" \":\n",
    "            continue\n",
    "\n",
    "sup_timer_finish = time.perf_counter_ns() \n",
    "\n",
    "res = sup_timer_finish - sup_timer_start\n",
    "\n",
    "print(f\"\\nвсего на выполнения команд файла ушло {res / 1_000_000} секунд\")\n",
    "\n",
    "\n"
   ]
  },
  {
   "cell_type": "markdown",
   "id": "20a4dbbe-3dd0-401a-a207-47f142cb47bc",
   "metadata": {},
   "source": [
    "### файл input_2"
   ]
  },
  {
   "cell_type": "code",
   "execution_count": 3,
   "id": "8ccb03c4-bd0b-46f0-ab16-d93912f4f5f7",
   "metadata": {},
   "outputs": [
    {
     "name": "stdout",
     "output_type": "stream",
     "text": [
      "is stack empty: True, time: 0.0011 ms\n",
      "push make, time: 0.0012 ms\n",
      "make is on top, time: 0.0013 ms\n",
      "push 337, time: 0.0008 ms\n",
      "push baobab, time: 0.0003 ms\n",
      "print:\n",
      "baobab\n",
      "337\n",
      "make\n",
      "print ended, time: 0.0213 ms\n",
      "pop baobab, time: 0.0006 ms\n",
      "push dog, time: 0.0003 ms\n",
      "push 64, time: 0.0003 ms\n",
      "64 is on top, time: 0.0006 ms\n",
      "is stack empty: False, time: 0.0006 ms\n",
      "print:\n",
      "64\n",
      "dog\n",
      "337\n",
      "make\n",
      "print ended, time: 0.0203 ms\n",
      "\n",
      "всего на выполнения команд файла ушло 0.5238 секунд\n"
     ]
    }
   ],
   "source": [
    "import time\n",
    "\n",
    "\n",
    "mystack_2 = Stack()\n",
    "file = open(\"input_2.txt\").read().split()\n",
    "sup_timer_start = time.perf_counter_ns()\n",
    "\n",
    "for elem in file:\n",
    "    match elem[0]:\n",
    "        case '1':\n",
    "            print(f\"push {elem[2::]}\", end=\", \")\n",
    "            time_start = time.perf_counter_ns()\n",
    "            mystack_2.push(elem[2::])\n",
    "            res = time.perf_counter_ns() - time_start\n",
    "            print(f\"time: {res / 1_000_000} ms\")\n",
    "        case '2':\n",
    "            time_start = time.perf_counter_ns()\n",
    "            poped = mystack_2.pop()\n",
    "            res = time.perf_counter_ns() - time_start\n",
    "            print(f\"pop {poped}, time: {res / 1_000_000} ms\")\n",
    "        case '3':\n",
    "            time_start = time.perf_counter_ns()\n",
    "            top = mystack_2.top()\n",
    "            res = time.perf_counter_ns() - time_start\n",
    "            print(f\"{top} is on top, time: {res / 1_000_000} ms\")\n",
    "        case '4':\n",
    "            time_start = time.perf_counter_ns()\n",
    "            is_empty = mystack_2.is_empty()\n",
    "            res = time.perf_counter_ns() - time_start\n",
    "            print(f\"is stack empty: {mystack_2.is_empty()}, time: {res / 1_000_000} ms\")\n",
    "        case '5':\n",
    "            time_start = time.perf_counter_ns()\n",
    "            mystack_2.print()\n",
    "            res = time.perf_counter_ns() - time_start\n",
    "            print(f\"time: {res / 1_000_000} ms\")\n",
    "        case \" \":\n",
    "            continue\n",
    "\n",
    "sup_timer_finish = time.perf_counter_ns() \n",
    "\n",
    "res = sup_timer_finish - sup_timer_start\n",
    "\n",
    "print(f\"\\nвсего на выполнения команд файла ушло {res / 1_000_000} секунд\")\n",
    "\n",
    "del mystack_2"
   ]
  },
  {
   "cell_type": "markdown",
   "id": "298143f3-49b6-4c82-b507-0e1401a5da99",
   "metadata": {},
   "source": [
    "### файл input_3"
   ]
  },
  {
   "cell_type": "code",
   "execution_count": 4,
   "id": "8f980603-5ea2-4578-9da3-faf3bafde18b",
   "metadata": {},
   "outputs": [
    {
     "name": "stdout",
     "output_type": "stream",
     "text": [
      "print:\n",
      "print ended, time: 0.1745 ms\n",
      "push Moscow, time: 0.0009 ms\n",
      "push Berlin, time: 0.0008 ms\n",
      "is stack empty: False, time: 0.0011 ms\n",
      "push Paris, time: 0.0004 ms\n",
      "print:\n",
      "Paris\n",
      "Berlin\n",
      "Moscow\n",
      "print ended, time: 0.0201 ms\n",
      "Paris is on top, time: 0.0009 ms\n",
      "pop Paris, time: 0.0005 ms\n",
      "pop Berlin, time: 0.0005 ms\n",
      "push Petersburg, time: 0.0003 ms\n",
      "push Omsk, time: 0.0004 ms\n",
      "print:\n",
      "Omsk\n",
      "Petersburg\n",
      "Moscow\n",
      "print ended, time: 0.0189 ms\n",
      "is stack empty: False, time: 0.0005 ms\n",
      "pop Paris, time: 0.0003 ms\n",
      "push Yekaterinburg, time: 0.0003 ms\n",
      "Yekaterinburg is on top, time: 0.0005 ms\n",
      "\n",
      "всего на выполнения команд файла ушло 0.5484 секунд\n"
     ]
    }
   ],
   "source": [
    "import time\n",
    "\n",
    "file = open(\"input_3.txt\").read().split()\n",
    "mystack_3 = Stack()\n",
    "sup_timer_start = time.perf_counter_ns()\n",
    "\n",
    "\n",
    "for elem in file:\n",
    "    match elem[0]:\n",
    "        case '1':\n",
    "            print(f\"push {elem[2::]}\", end=\", \")\n",
    "            time_start = time.perf_counter_ns()\n",
    "            mystack_3.push(elem[2::])\n",
    "            res = time.perf_counter_ns() - time_start\n",
    "            print(f\"time: {res / 1_000_000} ms\")\n",
    "        case '2':\n",
    "            time_start = time.perf_counter_ns()\n",
    "            poped = mystack_3.pop()\n",
    "            res = time.perf_counter_ns() - time_start\n",
    "            print(f\"pop {poped}, time: {res /1_000_000} ms\")\n",
    "        case '3':\n",
    "            time_start = time.perf_counter_ns()\n",
    "            top = mystack_3.top()\n",
    "            res = time.perf_counter_ns() - time_start\n",
    "            print(f\"{top} is on top, time: {res / 1_000_000} ms\")\n",
    "        case '4':\n",
    "            time_start = time.perf_counter_ns()\n",
    "            is_empty = mystack_3.is_empty()\n",
    "            res = time.perf_counter_ns() - time_start\n",
    "            print(f\"is stack empty: {mystack_3.is_empty()}, time: {res / 1_000_000} ms\")\n",
    "        case '5':\n",
    "            time_start = time.perf_counter_ns()\n",
    "            mystack_3.print()\n",
    "            res = time.perf_counter_ns() - time_start\n",
    "            print(f\"time: {res / 1_000_000} ms\")\n",
    "        case \" \":\n",
    "            continue\n",
    "\n",
    "sup_timer_finish = time.perf_counter_ns() \n",
    "\n",
    "res = sup_timer_finish - sup_timer_start\n",
    "\n",
    "print(f\"\\nвсего на выполнения команд файла ушло {res / 1_000_000} секунд\")\n"
   ]
  },
  {
   "cell_type": "markdown",
   "id": "869a925e-799e-490e-ab66-64d2bbc0363e",
   "metadata": {},
   "source": [
    "## Реализация постфиксной формы"
   ]
  },
  {
   "cell_type": "code",
   "execution_count": 5,
   "id": "237833c6-ba72-41b3-b41a-a0c383f0780e",
   "metadata": {},
   "outputs": [
    {
     "name": "stdout",
     "output_type": "stream",
     "text": [
      "постфиксная запись: ab+c*ab-d:-\n",
      "инфиксная запись: ((a+b)*c-(a-b):d)\n",
      "\n",
      "всего на выполнения команд файла ушло 0.0979 секунд\n"
     ]
    }
   ],
   "source": [
    "stack = Stack()\n",
    "\n",
    "file = open(\"postfix.txt\").read()\n",
    "print(f\"постфиксная запись: {file}\")\n",
    "\n",
    "res = \"\"\n",
    "\n",
    "sup_timer_start = time.perf_counter_ns()\n",
    "for el in file:\n",
    "    if el in \"+-*:^\":\n",
    "        b, a = stack.pop(), stack.pop()\n",
    "        res = \"(\" + a + el + b + \")\" if el in \"+-\" else a + el + b\n",
    "        stack.push(res)\n",
    "    else:\n",
    "        stack.push(el)\n",
    "        \n",
    "sup_timer_finish = time.perf_counter_ns() \n",
    "timer = sup_timer_finish - sup_timer_start\n",
    "print(f\"инфиксная запись: {res}\")\n",
    "print(f\"\\nвсего на выполнения команд файла ушло {timer / 1_000_000} секунд\")"
   ]
  },
  {
   "cell_type": "markdown",
   "id": "e4b445ef-e8e3-438d-a9a6-64afe57f295b",
   "metadata": {},
   "source": [
    "### Алгоритмическая сложность"
   ]
  },
  {
   "cell_type": "markdown",
   "id": "e9dc6d4a-8602-4764-956f-1beeff861240",
   "metadata": {},
   "source": [
    "[ДАННЫЕ_УДАЛЕНЫ]"
   ]
  },
  {
   "cell_type": "code",
   "execution_count": null,
   "id": "ac403784-58ae-4598-be7a-d4d1b7a169e1",
   "metadata": {},
   "outputs": [],
   "source": []
  }
 ],
 "metadata": {
  "kernelspec": {
   "display_name": "Python 3 (ipykernel)",
   "language": "python",
   "name": "python3"
  },
  "language_info": {
   "codemirror_mode": {
    "name": "ipython",
    "version": 3
   },
   "file_extension": ".py",
   "mimetype": "text/x-python",
   "name": "python",
   "nbconvert_exporter": "python",
   "pygments_lexer": "ipython3",
   "version": "3.12.6"
  }
 },
 "nbformat": 4,
 "nbformat_minor": 5
}
