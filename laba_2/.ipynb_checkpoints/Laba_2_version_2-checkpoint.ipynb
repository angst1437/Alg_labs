{
 "cells": [
  {
   "cell_type": "markdown",
   "id": "0cf81082-5c7b-49d4-952f-3deeb63a930d",
   "metadata": {},
   "source": [
    "# Часть 1"
   ]
  },
  {
   "cell_type": "markdown",
   "id": "2091b014-0448-4823-b4f0-b7c073c2c2c6",
   "metadata": {},
   "source": [
    "создание структуры стека"
   ]
  },
  {
   "cell_type": "code",
   "execution_count": 136,
   "id": "8371d84b-eae5-4f17-8fb5-9ddfb3f8037c",
   "metadata": {},
   "outputs": [],
   "source": [
    "class Node:\n",
    "    def __init__(self, data):\n",
    "        self.next = None\n",
    "        self.data = data\n",
    "\n",
    "    \n",
    "class Stack:\n",
    "    def __init__(self):\n",
    "        self.head = None\n",
    "\n",
    "    def push(self, elem):\n",
    "        new_node = Node(elem)\n",
    "        if self.head is None:\n",
    "            self.head = new_node\n",
    "        else:\n",
    "            new_node.next = self.head\n",
    "            self.head = new_node\n",
    "\n",
    "    def pop(self):\n",
    "        if self.head is None:\n",
    "            return None\n",
    "        else:\n",
    "            poped_elem = self.head.data\n",
    "            self.head = self.head.next\n",
    "            return poped_elem\n",
    "            \n",
    "    def top(self):\n",
    "        if self.head is None:\n",
    "            return None\n",
    "        else:\n",
    "            return self.head.data    \n",
    "\n",
    "    def is_empty(self):\n",
    "        return self.head is None\n",
    "\n",
    "    def print(self):\n",
    "        if self.head is None:\n",
    "            print(\"Stack is empty\")\n",
    "            return\n",
    "        else:\n",
    "            print(\"print stack:\")\n",
    "            curr_node = self.head\n",
    "            while (curr_node is not None):\n",
    "                print(curr_node.data)\n",
    "                curr_node = curr_node.next\n",
    "            print(\"print ended\", end = \", \")\n",
    "            return\n",
    "        \n",
    "        \n",
    "\n"
   ]
  },
  {
   "cell_type": "markdown",
   "id": "fd30dc3f-cf72-4414-af77-3aea7a3d3180",
   "metadata": {},
   "source": [
    "## Чтение файла и исполнение команд в нём"
   ]
  },
  {
   "cell_type": "markdown",
   "id": "69c427fb-1d01-4f2e-af34-883543818aa2",
   "metadata": {},
   "source": [
    "### Файл input_1"
   ]
  },
  {
   "cell_type": "code",
   "execution_count": 137,
   "id": "0f93a955-b678-4182-9451-ac44046e1d10",
   "metadata": {
    "scrolled": true
   },
   "outputs": [
    {
     "name": "stdout",
     "output_type": "stream",
     "text": [
      "None is on top, time: 0.0015 ms\n",
      "is stack empty: True, time: 0.0019 ms\n",
      "push 56, time: 0.0039 ms\n",
      "push 7, time: 0.0018 ms\n",
      "push cat, time: 0.0009 ms\n",
      "pop cat, time: 0.0014 ms\n",
      "print stack:\n",
      "7\n",
      "56\n",
      "print ended, time: 0.0146 ms\n",
      "is stack empty: False, time: 0.0006 ms\n",
      "\n",
      "всего на выполнения команд файла ушло 0.4989 секунд\n"
     ]
    }
   ],
   "source": [
    "import time\n",
    "\n",
    "# создание экземпляра класса\n",
    "mystack_1 = Stack()\n",
    "\n",
    "file = open(\"input_1.txt\").read().split()\n",
    "sup_timer_start = time.perf_counter_ns()\n",
    "\n",
    "# разбиваем строчку в массив сплитом, проходимся по каждому элементу\n",
    "for elem in file:\n",
    "    # мэтч ищется именно по нулевому элементу, чтобы все норм работало в командах по типу \"1,cat\"(т.е. считывало только 1)\n",
    "    match elem[0]:\n",
    "        case '1':\n",
    "            # пушится elem[2::] потому, что первые два элемента это один и запятая\n",
    "            print(f\"push {elem[2::]}\", end=\", \")\n",
    "            time_start = time.perf_counter_ns()\n",
    "            mystack_1.push(elem[2::])\n",
    "            res = time.perf_counter_ns() - time_start\n",
    "            print(f\"time: {res / 1_000_000} ms\")\n",
    "        case '2':\n",
    "            time_start = time.perf_counter_ns()\n",
    "            poped = mystack_1.pop()\n",
    "            res = time.perf_counter_ns() - time_start\n",
    "            print(f\"pop {poped}, time: {res /1_000_000} ms\")\n",
    "        case '3':\n",
    "            time_start = time.perf_counter_ns()\n",
    "            top = mystack_1.top()\n",
    "            res = time.perf_counter_ns() - time_start\n",
    "            print(f\"{top} is on top, time: {res / 1_000_000} ms\")\n",
    "        case '4':\n",
    "            time_start = time.perf_counter_ns()\n",
    "            is_empty = mystack_1.is_empty()\n",
    "            res = time.perf_counter_ns() - time_start\n",
    "            print(f\"is stack empty: {mystack_1.is_empty()}, time: {res / 1_000_000} ms\")\n",
    "        case '5':\n",
    "            time_start = time.perf_counter_ns()\n",
    "            mystack_1.print()\n",
    "            res = time.perf_counter_ns() - time_start\n",
    "            print(f\"time: {res / 1_000_000} ms\")\n",
    "        case \" \":\n",
    "            continue\n",
    "\n",
    "sup_timer_finish = time.perf_counter_ns() \n",
    "\n",
    "res = sup_timer_finish - sup_timer_start\n",
    "\n",
    "print(f\"\\nвсего на выполнения команд файла ушло {res / 1_000_000} секунд\")\n",
    "\n",
    "\n",
    "\n",
    "# в след примерах все то же самое, так что комментов не будет"
   ]
  },
  {
   "cell_type": "markdown",
   "id": "8fca34f4-31f3-4c7e-bdcc-8cb63c2c042e",
   "metadata": {},
   "source": [
    "### Файл input_2"
   ]
  },
  {
   "cell_type": "code",
   "execution_count": 138,
   "id": "8ccb03c4-bd0b-46f0-ab16-d93912f4f5f7",
   "metadata": {},
   "outputs": [
    {
     "name": "stdout",
     "output_type": "stream",
     "text": [
      "is stack empty: True, time: 0.0008 ms\n",
      "push make, time: 0.003 ms\n",
      "make is on top, time: 0.001 ms\n",
      "push 337, time: 0.0012 ms\n",
      "push baobab, time: 0.0006 ms\n",
      "print stack:\n",
      "baobab\n",
      "337\n",
      "make\n",
      "print ended, time: 0.0172 ms\n",
      "pop baobab, time: 0.0011 ms\n",
      "push dog, time: 0.0007 ms\n",
      "push 64, time: 0.0006 ms\n",
      "64 is on top, time: 0.0005 ms\n",
      "is stack empty: False, time: 0.0005 ms\n",
      "print stack:\n",
      "64\n",
      "dog\n",
      "337\n",
      "make\n",
      "print ended, time: 0.0182 ms\n",
      "\n",
      "всего на выполнения команд файла ушло 0.4936 секунд\n"
     ]
    }
   ],
   "source": [
    "import time\n",
    "\n",
    "\n",
    "mystack_2 = Stack()\n",
    "file = open(\"input_2.txt\").read().split()\n",
    "sup_timer_start = time.perf_counter_ns()\n",
    "\n",
    "for elem in file:\n",
    "    match elem[0]:\n",
    "        case '1':\n",
    "            print(f\"push {elem[2::]}\", end=\", \")\n",
    "            time_start = time.perf_counter_ns()\n",
    "            mystack_2.push(elem[2::])\n",
    "            res = time.perf_counter_ns() - time_start\n",
    "            print(f\"time: {res / 1_000_000} ms\")\n",
    "        case '2':\n",
    "            time_start = time.perf_counter_ns()\n",
    "            poped = mystack_2.pop()\n",
    "            res = time.perf_counter_ns() - time_start\n",
    "            print(f\"pop {poped}, time: {res / 1_000_000} ms\")\n",
    "        case '3':\n",
    "            time_start = time.perf_counter_ns()\n",
    "            top = mystack_2.top()\n",
    "            res = time.perf_counter_ns() - time_start\n",
    "            print(f\"{top} is on top, time: {res / 1_000_000} ms\")\n",
    "        case '4':\n",
    "            time_start = time.perf_counter_ns()\n",
    "            is_empty = mystack_2.is_empty()\n",
    "            res = time.perf_counter_ns() - time_start\n",
    "            print(f\"is stack empty: {mystack_2.is_empty()}, time: {res / 1_000_000} ms\")\n",
    "        case '5':\n",
    "            time_start = time.perf_counter_ns()\n",
    "            mystack_2.print()\n",
    "            res = time.perf_counter_ns() - time_start\n",
    "            print(f\"time: {res / 1_000_000} ms\")\n",
    "        case \" \":\n",
    "            continue\n",
    "\n",
    "sup_timer_finish = time.perf_counter_ns() \n",
    "\n",
    "res = sup_timer_finish - sup_timer_start\n",
    "\n",
    "print(f\"\\nвсего на выполнения команд файла ушло {res / 1_000_000} секунд\")\n",
    "\n",
    "del mystack_2"
   ]
  },
  {
   "cell_type": "markdown",
   "id": "f5d17aa3-641c-4123-9812-e90b110f723a",
   "metadata": {},
   "source": [
    "### Файл input_3"
   ]
  },
  {
   "cell_type": "code",
   "execution_count": 139,
   "id": "8e72a70f-6482-47b2-9ba2-b9bbba9fc279",
   "metadata": {},
   "outputs": [
    {
     "name": "stdout",
     "output_type": "stream",
     "text": [
      "Stack is empty\n",
      "time: 0.0382 ms\n",
      "push Moscow, time: 0.002 ms\n",
      "push Berlin, time: 0.0011 ms\n",
      "is stack empty: False, time: 0.0005 ms\n",
      "push Paris, time: 0.0006 ms\n",
      "print stack:\n",
      "Paris\n",
      "Berlin\n",
      "Moscow\n",
      "print ended, time: 0.0163 ms\n",
      "Paris is on top, time: 0.0006 ms\n",
      "pop Paris, time: 0.0012 ms\n",
      "pop Berlin, time: 0.0005 ms\n",
      "push Petersburg, time: 0.0007 ms\n",
      "push Omsk, time: 0.0006 ms\n",
      "print stack:\n",
      "Omsk\n",
      "Petersburg\n",
      "Moscow\n",
      "print ended, time: 0.0163 ms\n",
      "is stack empty: False, time: 0.0004 ms\n",
      "pop Omsk, time: 0.0004 ms\n",
      "push Yekaterinburg, time: 0.0006 ms\n",
      "Yekaterinburg is on top, time: 0.0004 ms\n",
      "\n",
      "всего на выполнения команд файла ушло 0.3988 секунд\n"
     ]
    }
   ],
   "source": [
    "import time\n",
    "\n",
    "file = open(\"input_3.txt\").read().split()\n",
    "mystack_3 = Stack()\n",
    "sup_timer_start = time.perf_counter_ns()\n",
    "\n",
    "\n",
    "for elem in file:\n",
    "    match elem[0]:\n",
    "        case '1':\n",
    "            print(f\"push {elem[2::]}\", end=\", \")\n",
    "            time_start = time.perf_counter_ns()\n",
    "            mystack_3.push(elem[2::])\n",
    "            res = time.perf_counter_ns() - time_start\n",
    "            print(f\"time: {res / 1_000_000} ms\")\n",
    "        case '2':\n",
    "            time_start = time.perf_counter_ns()\n",
    "            poped = mystack_3.pop()\n",
    "            res = time.perf_counter_ns() - time_start\n",
    "            print(f\"pop {poped}, time: {res /1_000_000} ms\")\n",
    "        case '3':\n",
    "            time_start = time.perf_counter_ns()\n",
    "            top = mystack_3.top()\n",
    "            res = time.perf_counter_ns() - time_start\n",
    "            print(f\"{top} is on top, time: {res / 1_000_000} ms\")\n",
    "        case '4':\n",
    "            time_start = time.perf_counter_ns()\n",
    "            is_empty = mystack_3.is_empty()\n",
    "            res = time.perf_counter_ns() - time_start\n",
    "            print(f\"is stack empty: {mystack_3.is_empty()}, time: {res / 1_000_000} ms\")\n",
    "        case '5':\n",
    "            time_start = time.perf_counter_ns()\n",
    "            mystack_3.print()\n",
    "            res = time.perf_counter_ns() - time_start\n",
    "            print(f\"time: {res / 1_000_000} ms\")\n",
    "        case \" \":\n",
    "            continue\n",
    "\n",
    "sup_timer_finish = time.perf_counter_ns() \n",
    "\n",
    "res = sup_timer_finish - sup_timer_start\n",
    "\n",
    "print(f\"\\nвсего на выполнения команд файла ушло {res / 1_000_000} секунд\")\n"
   ]
  },
  {
   "cell_type": "markdown",
   "id": "baa832f2-011a-4d3f-94c1-98092ee3c7fd",
   "metadata": {},
   "source": [
    "## Реализация постфиксной формы"
   ]
  },
  {
   "cell_type": "code",
   "execution_count": 140,
   "id": "e8e911cd-3bed-433e-a100-03990a5a0456",
   "metadata": {},
   "outputs": [
    {
     "name": "stdout",
     "output_type": "stream",
     "text": [
      "постфиксная запись: ab+c*ab-d:-\n",
      "инфиксная запись: ((a+b)*c-(a-b):d)\n",
      "\n",
      "всего на выполнения команд файла ушло 0.1073 секунд\n"
     ]
    }
   ],
   "source": [
    "stack = Stack()\n",
    "\n",
    "file = open(\"postfix.txt\").read()\n",
    "print(f\"постфиксная запись: {file}\")\n",
    "\n",
    "res = \"\"\n",
    "\n",
    "sup_timer_start = time.perf_counter_ns()\n",
    "for el in file:\n",
    "    if el in \"+-*:^\":\n",
    "        b, a = stack.pop(), stack.pop()\n",
    "        res = \"(\" + a + el + b + \")\" if el in \"+-\" else a + el + b\n",
    "        stack.push(res)\n",
    "    else:\n",
    "        stack.push(el)\n",
    "        \n",
    "sup_timer_finish = time.perf_counter_ns() \n",
    "timer = sup_timer_finish - sup_timer_start\n",
    "print(f\"инфиксная запись: {res}\")\n",
    "print(f\"\\nвсего на выполнения команд файла ушло {timer / 1_000_000} секунд\")"
   ]
  },
  {
   "cell_type": "markdown",
   "id": "476e9c88-df6d-4f42-b528-bde745ccb5ea",
   "metadata": {},
   "source": [
    "### Алгоритмическая сложность\n"
   ]
  },
  {
   "cell_type": "code",
   "execution_count": null,
   "id": "8b0b3be8-1752-412a-be17-c6788255c046",
   "metadata": {},
   "outputs": [],
   "source": []
  },
  {
   "cell_type": "code",
   "execution_count": null,
   "id": "8f90a0f2-d662-4e8b-90ee-72281f39f45b",
   "metadata": {},
   "outputs": [],
   "source": []
  },
  {
   "cell_type": "code",
   "execution_count": null,
   "id": "629953b9-e28a-43eb-bdfc-a9fb5b0fdbd0",
   "metadata": {},
   "outputs": [],
   "source": []
  },
  {
   "cell_type": "code",
   "execution_count": null,
   "id": "77b8a39d-baa9-410d-99f4-126034101427",
   "metadata": {},
   "outputs": [],
   "source": []
  },
  {
   "cell_type": "code",
   "execution_count": null,
   "id": "3e30c954-45ae-49a6-aa03-02edda80e7c1",
   "metadata": {},
   "outputs": [],
   "source": []
  }
 ],
 "metadata": {
  "kernelspec": {
   "display_name": "Python 3 (ipykernel)",
   "language": "python",
   "name": "python3"
  },
  "language_info": {
   "codemirror_mode": {
    "name": "ipython",
    "version": 3
   },
   "file_extension": ".py",
   "mimetype": "text/x-python",
   "name": "python",
   "nbconvert_exporter": "python",
   "pygments_lexer": "ipython3",
   "version": "3.12.6"
  }
 },
 "nbformat": 4,
 "nbformat_minor": 5
}
