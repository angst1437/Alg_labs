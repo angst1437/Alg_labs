{
 "cells": [
  {
   "cell_type": "markdown",
   "id": "0cf81082-5c7b-49d4-952f-3deeb63a930d",
   "metadata": {},
   "source": [
    "# Часть 1"
   ]
  },
  {
   "cell_type": "markdown",
   "id": "2091b014-0448-4823-b4f0-b7c073c2c2c6",
   "metadata": {},
   "source": [
    "создание структуры стека"
   ]
  },
  {
   "cell_type": "code",
   "execution_count": 36,
   "id": "8371d84b-eae5-4f17-8fb5-9ddfb3f8037c",
   "metadata": {},
   "outputs": [],
   "source": [
    "class Stack:\n",
    "\n",
    "    stack: list = []\n",
    "    temp_buffer: list = []\n",
    "\n",
    "    def __init__(self, *args):\n",
    "        for arg in args:\n",
    "            self.stack.append(arg)\n",
    "\n",
    "    def push(self, elem):\n",
    "        self.stack.append(elem)\n",
    "\n",
    "    def pop(self):\n",
    "        try:\n",
    "            return self.stack.pop()\n",
    "        except IndexError:\n",
    "            return None\n",
    "\n",
    "    def top(self):\n",
    "        try:\n",
    "            return self.stack[-1]\n",
    "        except IndexError:\n",
    "            return None\n",
    "\n",
    "    def is_empty(self):\n",
    "        return len(self.stack) == 0\n",
    "\n",
    "    def print(self):\n",
    "        print(\"print:\")\n",
    "        for i in range(len(self.stack)):\n",
    "            poped = self.pop()\n",
    "            self.temp_buffer.append(poped)\n",
    "            print(poped)\n",
    "\n",
    "        for i in range(1, len(self.temp_buffer) + 1):\n",
    "            self.push(self.temp_buffer[-i])\n",
    "\n",
    "        print(\"print ended\", end = \", \")\n",
    "\n",
    "mystack = Stack()\n"
   ]
  },
  {
   "cell_type": "markdown",
   "id": "fd30dc3f-cf72-4414-af77-3aea7a3d3180",
   "metadata": {},
   "source": [
    "Чтение файла и исполнение команд в нём"
   ]
  },
  {
   "cell_type": "code",
   "execution_count": 37,
   "id": "0f93a955-b678-4182-9451-ac44046e1d10",
   "metadata": {
    "scrolled": true
   },
   "outputs": [
    {
     "name": "stdout",
     "output_type": "stream",
     "text": [
      "None is on top, time: 0.0033 ms\n",
      "is stack empty: True, time: 0.0019 ms\n",
      "push 56, time: 0.0014 ms\n",
      "push 7, time: 0.001 ms\n",
      "push cat, time: 0.0005 ms\n",
      "pop cat, time: 0.0029 ms\n",
      "print:\n",
      "7\n",
      "56\n",
      "print ended, time: 0.0204 ms\n",
      "is stack empty: False, time: 0.0006 ms\n"
     ]
    }
   ],
   "source": [
    "import time\n",
    "\n",
    "file = open(\"input.txt\").read().split()\n",
    "\n",
    "for elem in file:\n",
    "    match elem[0]:\n",
    "        case '1':\n",
    "            print(f\"push {elem[2::]}\", end=\", \")\n",
    "            time_start = time.perf_counter_ns()\n",
    "            mystack.push(elem[2::])\n",
    "            res = time.perf_counter_ns() - time_start\n",
    "            print(f\"time: {res / 1_000_000} ms\")\n",
    "        case '2':\n",
    "            time_start = time.perf_counter_ns()\n",
    "            poped = mystack.pop()\n",
    "            res = time.perf_counter_ns() - time_start\n",
    "            print(f\"pop {poped}, time: {res /1_000_000} ms\")\n",
    "        case '3':\n",
    "            time_start = time.perf_counter_ns()\n",
    "            top = mystack.top()\n",
    "            res = time.perf_counter_ns() - time_start\n",
    "            print(f\"{top} is on top, time: {res / 1_000_000} ms\")\n",
    "        case '4':\n",
    "            time_start = time.perf_counter_ns()\n",
    "            is_empty = mystack.is_empty()\n",
    "            res = time.perf_counter_ns() - time_start\n",
    "            print(f\"is stack empty: {mystack.is_empty()}, time: {res / 1_000_000} ms\")\n",
    "        case '5':\n",
    "            time_start = time.perf_counter_ns()\n",
    "            mystack.print()\n",
    "            res = time.perf_counter_ns() - time_start\n",
    "            print(f\"time: {res / 1_000_000} ms\")\n",
    "        case \" \":\n",
    "            continue"
   ]
  },
  {
   "cell_type": "code",
   "execution_count": null,
   "id": "9cb15326-a03f-465f-a0d6-6ba4de397a06",
   "metadata": {},
   "outputs": [],
   "source": []
  },
  {
   "cell_type": "code",
   "execution_count": null,
   "id": "8ccb03c4-bd0b-46f0-ab16-d93912f4f5f7",
   "metadata": {},
   "outputs": [],
   "source": []
  },
  {
   "cell_type": "code",
   "execution_count": null,
   "id": "2fc6ee12-44f1-464f-8a57-1596b9076ea8",
   "metadata": {},
   "outputs": [],
   "source": []
  }
 ],
 "metadata": {
  "kernelspec": {
   "display_name": "Python 3 (ipykernel)",
   "language": "python",
   "name": "python3"
  },
  "language_info": {
   "codemirror_mode": {
    "name": "ipython",
    "version": 3
   },
   "file_extension": ".py",
   "mimetype": "text/x-python",
   "name": "python",
   "nbconvert_exporter": "python",
   "pygments_lexer": "ipython3",
   "version": "3.12.6"
  }
 },
 "nbformat": 4,
 "nbformat_minor": 5
}
